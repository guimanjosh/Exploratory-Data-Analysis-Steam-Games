{
 "cells": [
  {
   "cell_type": "markdown",
   "metadata": {},
   "source": [
    "# COGS 108 - Final Project Proposal"
   ]
  },
  {
   "cell_type": "markdown",
   "metadata": {},
   "source": [
    "# Names\n",
    "\n",
    "- Fadi Elhayek\n",
    "- Ivy Duggan\n",
    "- Joshua Guiman\n",
    "- Yu-Hsuan Chi\n"
   ]
  },
  {
   "cell_type": "markdown",
   "metadata": {},
   "source": [
    "# Research Question"
   ]
  },
  {
   "cell_type": "markdown",
   "metadata": {},
   "source": [
    "- Can objective measures* be used to predict the user tagged genres of video games? (objective measures: calculating color palettes from title/cover art, sentiment analysis on title, description, popularity metrics generated from sales/player counts, etc.)\n",
    "- Can the amount of difference between user tagged genres and developer tagged genres be used to predict game ratings?\n",
    "- Are the recommended system requirements of a game positively correlated with its proportion of positive reviews?\n",
    "- Does the number of recent positive reviews have a stronger positive correlation with the number of concurrent players than the number of recent negative reviews?\n",
    "- Does including more videos in the game showcase correlate with a higher proportion of positive reviews?\n",
    "Note: These questions/hypotheses later are provisional. We will change and narrow focus once we complete our EDA and determine what is viable for us.\n",
    "\n"
   ]
  },
  {
   "cell_type": "markdown",
   "metadata": {},
   "source": [
    "## Background and Prior Work"
   ]
  },
  {
   "cell_type": "markdown",
   "metadata": {},
   "source": [
    "\n",
    "Video games have been popular since they first released and are still exponentially growing with time. Not only are they fun, they are quite relevant in today’s society as many players dedicate a great deal of time to this hobby. With this in mind, our group developed research questions on human behavior and interactions with video games. Specifically, our group wanted to focus on Steam, an online gaming platform, where we can collect data about the games offered and the experiences that Steam users have with these games.\n",
    "\n",
    "A previous COGS 108 project on music genre classification which analyzed the relationship between its components and genre, inspired our group to conduct a similar analysis[^1]. For our research topic, we want to uncover the relationship between qualities of the video game, such as its cover art, and its genre. This topic has been explored by others, such as this publication called Deep Learning For Video Game Genre Classification attempts to use data about the video games based on its cover and its textual description[^2]. One of the challenges the researchers, Jiang and Zheng, wanted to make clear is that there is a variety of genres and each video game may not be completely defined[^2]. In the end, the group admitted that more research is needed to reach a satisfactory level in this area and hopefully our group can accommodate or learn from potential mistakes or mishaps from their research. \n",
    "\n",
    "With the data that steam provides on the games they offer, our group will aspire to find insight on this subset of video games as Jiang and Zheng researched from a broad sample of video games[^2]. From our analysis, we could perhaps find out if Steam only offers certain genres for its users or one genre that has a larger selection than another.\n",
    "\n",
    "[^1]: https://github.com/COGS108/FinalProjects-Sp20/blob/master/FinalProject_group18.ipynb \n",
    "[^2]: https://arxiv.org/abs/2011.12143 \n"
   ]
  },
  {
   "cell_type": "markdown",
   "metadata": {},
   "source": [
    "# Hypothesis\n"
   ]
  },
  {
   "cell_type": "markdown",
   "metadata": {},
   "source": [
    "\n",
    "- We believe that objective measures of a video game, such as the images and videos in its showcase, and its system requirements, can be used to predict the user-tagged genres and the ratings of the game. Based on our hypothesis, we predict that games with higher system requirements and more content in their showcase will receive higher ratings than those with lower system requirements and less showcased content.\n",
    "- The reasoning behind our hypothesis is that we know games developed with more effort and care are likely to be more entertaining and have better quality and ratings. Although we cannot determine the quality of a newly released game with little to no review, we believe that information, including system requirements and showcase content, that are immediately available upon the release of the game will also be indicative of the quality of a game.\n",
    "\n",
    "We also may try to determine how to create a model to predict the genre of a game based on data that we can gather, depending on our EDA we will pick a hypothesis/subset of it to focus on for our project.\n"
   ]
  },
  {
   "cell_type": "markdown",
   "metadata": {},
   "source": [
    "# Data"
   ]
  },
  {
   "cell_type": "markdown",
   "metadata": {},
   "source": [
    "1. Explain what the ideal dataset you would want to answer this question. (This should include: What variables? How many observations? Who/what/how would these data be collected? How would these data be stored/organized?)\n",
    "- a. The ideal dataset for this set of research questions would be: Names, descriptions, tags, developer-stated genres, user defined genres, release date (both physical and virtual), reviews by critics, user reviews, sales numbers over time and gross, the official cover art, ratings by ESRB & PEGI/other rating bodies, system requirements.\n",
    "- b. The ideal number of observations would be as many as we can reasonably compute with our current equipment. It may be best to narrow down to a time period of games for use, such as 2010-2020.\n",
    "- c. Ivy will collect this data, as they have already done some initial work in trying to get this data from store.steampowered.com, a popular PC game marketplace. It will likely be gathered through our own code that uses calls to this storefront to gather raw data for games that are currently listed.\n",
    "2. Search for potential real datasets that could provide you with something useful for this project. You do not have to find every piece of data you will use, but you do need to have demonstrated some idea that (a) this data is gettable and (b) that this data may be different from what your ideal is\n",
    "- a. Potential real datasets can come from online games marketplaces, such as gog.com, store.steampowered.com, epicgames.com, ubisoft, and EA’s respective game Services. Additionally, it may be gathered from reference websites, such as Wikipedia.\n",
    "- b. We’ve already initially tested with some short Javascript that it is possible to create arbitrary App IDs and test them for validity, then use the valid App IDs to gather the raw html response from an HTTPS GET query. This data can then be scraped programmatically across a valid set of App IDs until a large enough data set is obtained. Some limits of this specific source are that they may not have a series of developer defined genres, this data is limited to PC specific games, and not all games have ratings. Additionally, we may need to filter out very small self published games, or otherwise weight our results off of some measure of popularity. We also do not have sales data and multiple release dates.\n"
   ]
  },
  {
   "cell_type": "markdown",
   "metadata": {},
   "source": [
    "# Ethics & Privacy"
   ]
  },
  {
   "cell_type": "markdown",
   "metadata": {},
   "source": [
    "- We will use objective measures to get datasets from the public Steam website. The datasets we used about video game genres are legal to be accessed since that information is made public on the official Steam website.\n",
    "- A potential bias that we ran into was that we would only be getting our data from Steam servers although there are other video game marketplaces as well. Another potential bias is that Steam is not available in some countries in the world. A potential solution to this would be to only use data of games that are only available on Steam. Getting data from other countries where Steam isn’t available would possibly be an issue moving forward as it does not allow equitable access. As far as credible sources goes, the data would be collected from the Steam website.\n",
    "- As for the algorithm fairness, we may need some adjustments to avoid bias.\n",
    "\n"
   ]
  },
  {
   "cell_type": "markdown",
   "metadata": {},
   "source": [
    "# Team Expectations "
   ]
  },
  {
   "cell_type": "markdown",
   "metadata": {},
   "source": [
    "\n",
    "- Communicate when stuck for more than a few days.\n",
    "- Document all questions/concerns/findings either in official project resources or in Discord for more discussion.\n",
    "- Know when you are in over your head!\n",
    "- Ask for help if needed.\n",
    "- Be respectful and calm. None of this is life or death.\n"
   ]
  },
  {
   "cell_type": "markdown",
   "metadata": {},
   "source": [
    "# Project Timeline Proposal"
   ]
  },
  {
   "cell_type": "markdown",
   "metadata": {},
   "source": [
    "Specify your team's specific project timeline. An example timeline has been provided. Changes the dates, times, names, and details to fit your group's plan.\n",
    "\n",
    "\n",
    "\n",
    "| Meeting Date  | Meeting Time| Completed Before Meeting  | Discuss at Meeting |\n",
    "|---|---|---|---|\n",
    "| 10/24  | NA | Team creation & initial thoughts about topics. | Assign group members to lead each specific part. Discuss potential sources of data and research questions/hypothesis. | \n",
    "| 11/7  |  3 PM |  Import & Wrangle Data (Ivy); EDA (Phillip) | Review/Edit wrangling/EDA; Discuss Analysis Plan | \n",
    "| 11/21  | 3 PM  | Finalize wrangling/EDA; Begin Analysis (Fadi, Joshua)  | Discuss/edit Analysis; Complete project check-in   |\n",
    "| 12/9  | Before 11:59 PM  | NA | Turn in Final Project & Group Project Surveys   |\n"
   ]
  },
  {
   "cell_type": "code",
   "execution_count": null,
   "metadata": {},
   "outputs": [],
   "source": []
  }
 ],
 "metadata": {
  "kernelspec": {
   "display_name": "Python 3 (ipykernel)",
   "language": "python",
   "name": "python3"
  },
  "language_info": {
   "codemirror_mode": {
    "name": "ipython",
    "version": 3
   },
   "file_extension": ".py",
   "mimetype": "text/x-python",
   "name": "python",
   "nbconvert_exporter": "python",
   "pygments_lexer": "ipython3",
   "version": "3.9.13"
  }
 },
 "nbformat": 4,
 "nbformat_minor": 2
}
